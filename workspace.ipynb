{
 "cells": [
  {
   "cell_type": "markdown",
   "metadata": {},
   "source": [
    "# Action Grammars: A Grammar-Induction Based Method for Learning Temporally-Extended Actions\n",
    "## Authors: Robert Lange and Aldo Faisal | January 2019"
   ]
  },
  {
   "cell_type": "code",
   "execution_count": null,
   "metadata": {},
   "outputs": [],
   "source": [
    "!pip install -r requirements.txt --quiet"
   ]
  },
  {
   "cell_type": "code",
   "execution_count": 28,
   "metadata": {},
   "outputs": [
    {
     "name": "stdout",
     "output_type": "stream",
     "text": [
      "The autoreload extension is already loaded. To reload it, use:\n",
      "  %reload_ext autoreload\n"
     ]
    },
    {
     "data": {
      "text/html": [
       "<style>.container { width:100% !important; }</style>"
      ],
      "text/plain": [
       "<IPython.core.display.HTML object>"
      ]
     },
     "metadata": {},
     "output_type": "display_data"
    }
   ],
   "source": [
    "%matplotlib inline\n",
    "%load_ext autoreload\n",
    "%autoreload 2\n",
    "\n",
    "from IPython.core.display import display, HTML\n",
    "display(HTML(\"<style>.container { width:100% !important; }</style>\"))"
   ]
  },
  {
   "cell_type": "code",
   "execution_count": 29,
   "metadata": {},
   "outputs": [],
   "source": [
    "import os\n",
    "import time\n",
    "import numpy as np\n",
    "\n",
    "import gym\n",
    "import gym_hanoi"
   ]
  },
  {
   "cell_type": "code",
   "execution_count": 30,
   "metadata": {},
   "outputs": [],
   "source": [
    "from agents import *\n",
    "from utils.learning import QTable, q_learning_update\n",
    "from utils.learning_params import *\n",
    "from utils.general import *"
   ]
  },
  {
   "cell_type": "code",
   "execution_count": 31,
   "metadata": {},
   "outputs": [],
   "source": [
    "# Create directory - Learning performance\n",
    "results_dir = os.getcwd() + \"/results/\"\n",
    "if not os.path.exists(results_dir):\n",
    "    os.makedirs(results_dir)\n",
    "    print(\"Created New Results Directory\")\n",
    "\n",
    "# Create directory - Log directory\n",
    "log_dir = os.getcwd() + \"/logs/\"\n",
    "if not os.path.exists(log_dir):\n",
    "    os.makedirs(log_dir)\n",
    "    print(\"Created New Log Directory\")\n",
    "    \n",
    "# Create directory - Figure directory\n",
    "fig_dir = os.getcwd() + \"/figures/\"\n",
    "if not os.path.exists(fig_dir):\n",
    "    os.makedirs(fig_dir)\n",
    "    print(\"Created New Fig Directory\")"
   ]
  },
  {
   "cell_type": "markdown",
   "metadata": {},
   "source": [
    "# Towers of Hanoi"
   ]
  },
  {
   "cell_type": "code",
   "execution_count": 41,
   "metadata": {},
   "outputs": [],
   "source": [
    "num_episodes = 2000\n",
    "max_steps = 100\n",
    "\n",
    "log_freq = 100  # greedily evaluate policy after amount of episodes\n",
    "log_episodes = 100\n",
    "learning_times = 5\n",
    "\n",
    "verbose = True\n",
    "log_template = \"Ep: {:>2} | Avg/Std Steps: {:.2f}/{:.2f} | Avg/Std Ret: {:.2f}/{:.2f} | Success R: {:.2f}\"\n",
    "\n",
    "N = 3\n",
    "\n",
    "alpha, gamma, lambd, epsilon = learning_parameters()\n",
    "hist = np.zeros((int(num_episodes/log_freq), 6))"
   ]
  },
  {
   "cell_type": "code",
   "execution_count": 42,
   "metadata": {},
   "outputs": [
    {
     "name": "stdout",
     "output_type": "stream",
     "text": [
      "Hanoi Environment Parameters have been set to:\n",
      "\t Number of Disks: 3\n",
      "\t Transition Failure Probability: 0\n"
     ]
    }
   ],
   "source": [
    "env = gym.make(\"Hanoi-v0\")\n",
    "env.set_env_parameters(num_disks=N, env_noise=0)\n",
    "\n",
    "Q = QTable(env.get_movability_map())\n",
    "old_state = env.reset()\n",
    "agent = Agent_Q(env, Q)\n",
    "er_buffer = ReplayBuffer(num_episodes*max_steps)"
   ]
  },
  {
   "cell_type": "code",
   "execution_count": 43,
   "metadata": {},
   "outputs": [
    {
     "name": "stdout",
     "output_type": "stream",
     "text": [
      "Ep:  1 | Avg/Std Steps: 48.54/18.04 | Avg/Std Ret: 17.51/18.04 | Success R: 0.50\n",
      "Ep: 101 | Avg/Std Steps: 7.00/0.00 | Avg/Std Ret: 73.51/0.00 | Success R: 1.00\n",
      "Ep: 201 | Avg/Std Steps: 7.00/0.00 | Avg/Std Ret: 73.51/0.00 | Success R: 1.00\n",
      "Ep: 301 | Avg/Std Steps: 7.00/0.00 | Avg/Std Ret: 73.51/0.00 | Success R: 1.00\n",
      "Ep: 401 | Avg/Std Steps: 7.00/0.00 | Avg/Std Ret: 73.51/0.00 | Success R: 1.00\n",
      "Ep: 501 | Avg/Std Steps: 7.00/0.00 | Avg/Std Ret: 73.51/0.00 | Success R: 1.00\n",
      "Ep: 601 | Avg/Std Steps: 7.00/0.00 | Avg/Std Ret: 73.51/0.00 | Success R: 1.00\n",
      "Ep: 701 | Avg/Std Steps: 7.00/0.00 | Avg/Std Ret: 73.51/0.00 | Success R: 1.00\n",
      "Ep: 801 | Avg/Std Steps: 7.00/0.00 | Avg/Std Ret: 73.51/0.00 | Success R: 1.00\n",
      "Ep: 901 | Avg/Std Steps: 7.00/0.00 | Avg/Std Ret: 73.51/0.00 | Success R: 1.00\n",
      "Ep: 1001 | Avg/Std Steps: 7.00/0.00 | Avg/Std Ret: 73.51/0.00 | Success R: 1.00\n",
      "Ep: 1101 | Avg/Std Steps: 7.00/0.00 | Avg/Std Ret: 73.51/0.00 | Success R: 1.00\n",
      "Ep: 1201 | Avg/Std Steps: 7.00/0.00 | Avg/Std Ret: 73.51/0.00 | Success R: 1.00\n",
      "Ep: 1301 | Avg/Std Steps: 7.00/0.00 | Avg/Std Ret: 73.51/0.00 | Success R: 1.00\n",
      "Ep: 1401 | Avg/Std Steps: 7.00/0.00 | Avg/Std Ret: 73.51/0.00 | Success R: 1.00\n",
      "Ep: 1501 | Avg/Std Steps: 7.00/0.00 | Avg/Std Ret: 73.51/0.00 | Success R: 1.00\n",
      "Ep: 1601 | Avg/Std Steps: 7.00/0.00 | Avg/Std Ret: 73.51/0.00 | Success R: 1.00\n",
      "Ep: 1701 | Avg/Std Steps: 7.00/0.00 | Avg/Std Ret: 73.51/0.00 | Success R: 1.00\n",
      "Ep: 1801 | Avg/Std Steps: 7.00/0.00 | Avg/Std Ret: 73.51/0.00 | Success R: 1.00\n",
      "Ep: 1901 | Avg/Std Steps: 7.00/0.00 | Avg/Std Ret: 73.51/0.00 | Success R: 1.00\n"
     ]
    }
   ],
   "source": [
    "log_counter = 0\n",
    "\n",
    "for ep_id in range(num_episodes):\n",
    "    \n",
    "    old_state = env.reset()\n",
    "    \n",
    "    stp = 0\n",
    "    tot_td = 0\n",
    "    rewards = []\n",
    "        \n",
    "    for i in range(max_steps):\n",
    "        action = agent.epsilon_greedy_action(old_state)\n",
    "        new_state, reward, done, _ = env.step(action)\n",
    "                \n",
    "        # Update value function\n",
    "        tde = q_learning_update(gamma, alpha, agent.q_func,\n",
    "                                old_state, action, new_state, reward)\n",
    "        \n",
    "        # Extend replay buffer\n",
    "        er_buffer.push(ep_id, old_state, action, reward, new_state, done)\n",
    "        old_state = new_state\n",
    "        \n",
    "        # Update counters\n",
    "        stp += 1\n",
    "        tot_td += tde\n",
    "        rewards.append(reward)\n",
    "        \n",
    "        # Go to next episode if successfully ended\n",
    "        if done:\n",
    "            break\n",
    "    \n",
    "    if ep_id % log_freq == 0:\n",
    "        avg_steps, sd_steps, avg_ret, sd_steps, success_rate = greedy_eval(env, agent, gamma, max_steps, log_episodes)\n",
    "        hist[log_counter,:] = np.array([ep_id, avg_steps, sd_steps,\n",
    "                                        avg_ret, sd_steps, success_rate])\n",
    "        log_counter += 1\n",
    "        \n",
    "        if verbose:\n",
    "            print(log_template.format(ep_id + 1, avg_steps, sd_steps,\n",
    "                                      avg_ret, sd_steps, success_rate))"
   ]
  },
  {
   "cell_type": "code",
   "execution_count": null,
   "metadata": {},
   "outputs": [],
   "source": [
    "Q.table"
   ]
  },
  {
   "cell_type": "code",
   "execution_count": null,
   "metadata": {},
   "outputs": [],
   "source": [
    "allowed = env.get_movability_map()\n"
   ]
  },
  {
   "cell_type": "code",
   "execution_count": null,
   "metadata": {},
   "outputs": [],
   "source": [
    "idx = np.where(allowed[(0,0,1)] != -np.inf)[0]"
   ]
  },
  {
   "cell_type": "code",
   "execution_count": null,
   "metadata": {},
   "outputs": [],
   "source": [
    "np.random.choice(idx)"
   ]
  },
  {
   "cell_type": "code",
   "execution_count": null,
   "metadata": {},
   "outputs": [],
   "source": [
    "idx"
   ]
  },
  {
   "cell_type": "code",
   "execution_count": null,
   "metadata": {},
   "outputs": [],
   "source": []
  }
 ],
 "metadata": {
  "kernelspec": {
   "display_name": "Python3 (AG)",
   "language": "python",
   "name": "ag"
  },
  "language_info": {
   "codemirror_mode": {
    "name": "ipython",
    "version": 3
   },
   "file_extension": ".py",
   "mimetype": "text/x-python",
   "name": "python",
   "nbconvert_exporter": "python",
   "pygments_lexer": "ipython3",
   "version": "3.6.8"
  }
 },
 "nbformat": 4,
 "nbformat_minor": 2
}
