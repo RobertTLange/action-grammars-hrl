{
 "cells": [
  {
   "cell_type": "markdown",
   "metadata": {},
   "source": [
    "# Action Grammars: A Grammar-Induction Based Method for Learning Temporally-Extended Actions\n",
    "## Authors: Robert Lange and Aldo Faisal | January 2019"
   ]
  },
  {
   "cell_type": "code",
   "execution_count": null,
   "metadata": {},
   "outputs": [],
   "source": [
    "!pip install -r requirements.txt --quiet"
   ]
  },
  {
   "cell_type": "code",
   "execution_count": 1,
   "metadata": {},
   "outputs": [
    {
     "data": {
      "text/html": [
       "<style>.container { width:100% !important; }</style>"
      ],
      "text/plain": [
       "<IPython.core.display.HTML object>"
      ]
     },
     "metadata": {},
     "output_type": "display_data"
    }
   ],
   "source": [
    "%matplotlib inline\n",
    "%load_ext autoreload\n",
    "%autoreload 2\n",
    "\n",
    "from IPython.core.display import display, HTML\n",
    "display(HTML(\"<style>.container { width:100% !important; }</style>\"))"
   ]
  },
  {
   "cell_type": "code",
   "execution_count": 8,
   "metadata": {},
   "outputs": [],
   "source": [
    "import os\n",
    "import time\n",
    "import numpy as np\n",
    "\n",
    "import gym\n",
    "import gym_hanoi"
   ]
  },
  {
   "cell_type": "code",
   "execution_count": 13,
   "metadata": {},
   "outputs": [],
   "source": [
    "from agents import Agent_Q, SMDP_Agent_Q, Macro, ReplayBuffer\n",
    "from utils.q_learning import QTable, q_learning\n",
    "from utils.learning_params import *\n",
    "from utils.general import *\n",
    "from utils.plotting import *"
   ]
  },
  {
   "cell_type": "code",
   "execution_count": 14,
   "metadata": {},
   "outputs": [],
   "source": [
    "# Create directory - Learning performance\n",
    "results_dir = os.getcwd() + \"/results/\"\n",
    "if not os.path.exists(results_dir):\n",
    "    os.makedirs(results_dir)\n",
    "    print(\"Created New Results Directory\")\n",
    "\n",
    "# Create directory - Log directory\n",
    "log_dir = os.getcwd() + \"/logs/\"\n",
    "if not os.path.exists(log_dir):\n",
    "    os.makedirs(log_dir)\n",
    "    print(\"Created New Log Directory\")\n",
    "    \n",
    "# Create directory - Figure directory\n",
    "fig_dir = os.getcwd() + \"/figures/\"\n",
    "if not os.path.exists(fig_dir):\n",
    "    os.makedirs(fig_dir)\n",
    "    print(\"Created New Fig Directory\")"
   ]
  },
  {
   "cell_type": "markdown",
   "metadata": {},
   "source": [
    "# Towers of Hanoi - Setup"
   ]
  },
  {
   "cell_type": "code",
   "execution_count": 15,
   "metadata": {},
   "outputs": [],
   "source": [
    "num_episodes = 500\n",
    "max_steps = 500\n",
    "\n",
    "log_freq = 10  # greedily evaluate policy after amount of episodes\n",
    "log_episodes = 100\n",
    "learning_times = 5\n",
    "\n",
    "verbose = True\n",
    "\n",
    "N = 4\n",
    "\n",
    "alpha, gamma, lambd, epsilon = learning_parameters(l_type=\"Q-Learning\")"
   ]
  },
  {
   "cell_type": "markdown",
   "metadata": {},
   "source": [
    "### Simple TD($\\lambda$) Learning"
   ]
  },
  {
   "cell_type": "code",
   "execution_count": 16,
   "metadata": {},
   "outputs": [
    {
     "name": "stderr",
     "output_type": "stream",
     "text": [
      "/Users/rtl/anaconda2/envs/AG/lib/python3.6/site-packages/gym-0.10.9-py3.6.egg/gym/envs/registration.py:14: PkgResourcesDeprecationWarning: Parameters to load are deprecated.  Call .resolve and .require separately.\n",
      "  result = entry_point.load(False)\n"
     ]
    },
    {
     "name": "stdout",
     "output_type": "stream",
     "text": [
      "Hanoi Environment Parameters have been set to:\n",
      "\t Number of Disks: 4\n",
      "\t Transition Failure Probability: 0\n"
     ]
    }
   ],
   "source": [
    "env = gym.make(\"Hanoi-v0\")\n",
    "env.set_env_parameters(num_disks=N, env_noise=0)\n",
    "\n",
    "Q = QTable(env.get_movability_map())\n",
    "agent = Agent_Q(env, Q)\n",
    "er_buffer = ReplayBuffer(num_episodes*max_steps)"
   ]
  },
  {
   "cell_type": "code",
   "execution_count": 17,
   "metadata": {},
   "outputs": [
    {
     "name": "stdout",
     "output_type": "stream",
     "text": [
      "Ep:  1 | Avg/Std Steps: 500.00/0.00 | Avg/Std Ret: 0.00/0.00 | Success R: 0.00\n",
      "Ep: 11 | Avg/Std Steps: 500.00/0.00 | Avg/Std Ret: 0.00/0.00 | Success R: 0.00\n",
      "Ep: 21 | Avg/Std Steps: 500.00/0.00 | Avg/Std Ret: 0.00/0.00 | Success R: 0.00\n",
      "Ep: 31 | Avg/Std Steps: 27.00/0.00 | Avg/Std Ret: 26.35/0.00 | Success R: 1.00\n",
      "Ep: 41 | Avg/Std Steps: 500.00/0.00 | Avg/Std Ret: 0.00/0.00 | Success R: 0.00\n",
      "Ep: 51 | Avg/Std Steps: 27.00/0.00 | Avg/Std Ret: 26.35/0.00 | Success R: 1.00\n",
      "Ep: 61 | Avg/Std Steps: 26.00/0.00 | Avg/Std Ret: 27.74/0.00 | Success R: 1.00\n",
      "Ep: 71 | Avg/Std Steps: 25.00/0.00 | Avg/Std Ret: 29.20/0.00 | Success R: 1.00\n",
      "Ep: 81 | Avg/Std Steps: 500.00/0.00 | Avg/Std Ret: 0.00/0.00 | Success R: 0.00\n",
      "Ep: 91 | Avg/Std Steps: 27.00/0.00 | Avg/Std Ret: 26.35/0.00 | Success R: 1.00\n",
      "Ep: 101 | Avg/Std Steps: 29.00/0.00 | Avg/Std Ret: 23.78/0.00 | Success R: 1.00\n",
      "Ep: 111 | Avg/Std Steps: 26.00/0.00 | Avg/Std Ret: 27.74/0.00 | Success R: 1.00\n",
      "Ep: 121 | Avg/Std Steps: 25.00/0.00 | Avg/Std Ret: 29.20/0.00 | Success R: 1.00\n",
      "Ep: 131 | Avg/Std Steps: 500.00/0.00 | Avg/Std Ret: 0.00/0.00 | Success R: 0.00\n",
      "Ep: 141 | Avg/Std Steps: 29.00/0.00 | Avg/Std Ret: 23.78/0.00 | Success R: 1.00\n",
      "Ep: 151 | Avg/Std Steps: 28.00/0.00 | Avg/Std Ret: 25.03/0.00 | Success R: 1.00\n",
      "Ep: 161 | Avg/Std Steps: 28.00/0.00 | Avg/Std Ret: 25.03/0.00 | Success R: 1.00\n",
      "Ep: 171 | Avg/Std Steps: 27.00/0.00 | Avg/Std Ret: 26.35/0.00 | Success R: 1.00\n",
      "Ep: 181 | Avg/Std Steps: 29.00/0.00 | Avg/Std Ret: 23.78/0.00 | Success R: 1.00\n",
      "Ep: 191 | Avg/Std Steps: 29.00/0.00 | Avg/Std Ret: 23.78/0.00 | Success R: 1.00\n",
      "Ep: 201 | Avg/Std Steps: 29.00/0.00 | Avg/Std Ret: 23.78/0.00 | Success R: 1.00\n",
      "Ep: 211 | Avg/Std Steps: 27.00/0.00 | Avg/Std Ret: 26.35/0.00 | Success R: 1.00\n",
      "Ep: 221 | Avg/Std Steps: 27.00/0.00 | Avg/Std Ret: 26.35/0.00 | Success R: 1.00\n",
      "Ep: 231 | Avg/Std Steps: 25.00/0.00 | Avg/Std Ret: 29.20/0.00 | Success R: 1.00\n",
      "Ep: 241 | Avg/Std Steps: 25.00/0.00 | Avg/Std Ret: 29.20/0.00 | Success R: 1.00\n",
      "Ep: 251 | Avg/Std Steps: 26.00/0.00 | Avg/Std Ret: 27.74/0.00 | Success R: 1.00\n",
      "Ep: 261 | Avg/Std Steps: 25.00/0.00 | Avg/Std Ret: 29.20/0.00 | Success R: 1.00\n",
      "Ep: 271 | Avg/Std Steps: 25.00/0.00 | Avg/Std Ret: 29.20/0.00 | Success R: 1.00\n",
      "Ep: 281 | Avg/Std Steps: 25.00/0.00 | Avg/Std Ret: 29.20/0.00 | Success R: 1.00\n",
      "Ep: 291 | Avg/Std Steps: 25.00/0.00 | Avg/Std Ret: 29.20/0.00 | Success R: 1.00\n",
      "Ep: 301 | Avg/Std Steps: 25.00/0.00 | Avg/Std Ret: 29.20/0.00 | Success R: 1.00\n",
      "Ep: 311 | Avg/Std Steps: 25.00/0.00 | Avg/Std Ret: 29.20/0.00 | Success R: 1.00\n",
      "Ep: 321 | Avg/Std Steps: 25.00/0.00 | Avg/Std Ret: 29.20/0.00 | Success R: 1.00\n",
      "Ep: 331 | Avg/Std Steps: 25.00/0.00 | Avg/Std Ret: 29.20/0.00 | Success R: 1.00\n",
      "Ep: 341 | Avg/Std Steps: 27.00/0.00 | Avg/Std Ret: 26.35/0.00 | Success R: 1.00\n",
      "Ep: 351 | Avg/Std Steps: 29.00/0.00 | Avg/Std Ret: 23.78/0.00 | Success R: 1.00\n",
      "Ep: 361 | Avg/Std Steps: 26.00/0.00 | Avg/Std Ret: 27.74/0.00 | Success R: 1.00\n",
      "Ep: 371 | Avg/Std Steps: 25.00/0.00 | Avg/Std Ret: 29.20/0.00 | Success R: 1.00\n",
      "Ep: 381 | Avg/Std Steps: 25.00/0.00 | Avg/Std Ret: 29.20/0.00 | Success R: 1.00\n",
      "Ep: 391 | Avg/Std Steps: 25.00/0.00 | Avg/Std Ret: 29.20/0.00 | Success R: 1.00\n",
      "Ep: 401 | Avg/Std Steps: 25.00/0.00 | Avg/Std Ret: 29.20/0.00 | Success R: 1.00\n",
      "Ep: 411 | Avg/Std Steps: 26.00/0.00 | Avg/Std Ret: 27.74/0.00 | Success R: 1.00\n",
      "Ep: 421 | Avg/Std Steps: 25.00/0.00 | Avg/Std Ret: 29.20/0.00 | Success R: 1.00\n",
      "Ep: 431 | Avg/Std Steps: 25.00/0.00 | Avg/Std Ret: 29.20/0.00 | Success R: 1.00\n",
      "Ep: 441 | Avg/Std Steps: 25.00/0.00 | Avg/Std Ret: 29.20/0.00 | Success R: 1.00\n",
      "Ep: 451 | Avg/Std Steps: 25.00/0.00 | Avg/Std Ret: 29.20/0.00 | Success R: 1.00\n",
      "Ep: 461 | Avg/Std Steps: 25.00/0.00 | Avg/Std Ret: 29.20/0.00 | Success R: 1.00\n",
      "Ep: 471 | Avg/Std Steps: 25.00/0.00 | Avg/Std Ret: 29.20/0.00 | Success R: 1.00\n",
      "Ep: 481 | Avg/Std Steps: 25.00/0.00 | Avg/Std Ret: 29.20/0.00 | Success R: 1.00\n",
      "Ep: 491 | Avg/Std Steps: 25.00/0.00 | Avg/Std Ret: 29.20/0.00 | Success R: 1.00\n"
     ]
    }
   ],
   "source": [
    "hist, er_buffer = q_learning(env, agent, num_episodes, max_steps,\n",
    "                             gamma, alpha, lambd, log_freq, log_episodes, verbose)"
   ]
  },
  {
   "cell_type": "code",
   "execution_count": 18,
   "metadata": {},
   "outputs": [
    {
     "data": {
      "image/png": "[encoded data removed]",
      "text/plain": [
       "<Figure size 432x288 with 1 Axes>"
      ]
     },
     "metadata": {
      "needs_background": "light"
     },
     "output_type": "display_data"
    }
   ],
   "source": [
    "plot_learning(hist[:, 0], hist[:, 1], hist[:,2], title=r\"Steps - Base TD($\\lambda$) Learner\")"
   ]
  },
  {
   "cell_type": "code",
   "execution_count": 19,
   "metadata": {},
   "outputs": [
    {
     "data": {
      "image/png": "[encoded data removed]",
      "text/plain": [
       "<Figure size 432x288 with 1 Axes>"
      ]
     },
     "metadata": {
      "needs_background": "light"
     },
     "output_type": "display_data"
    }
   ],
   "source": [
    "plot_learning(hist[:, 0], hist[:, 3], hist[:, 4], title=r\"Reward - Base TD($\\lambda$) Learner\")"
   ]
  },
  {
   "cell_type": "markdown",
   "metadata": {},
   "source": [
    "### SMDP-Q-Learning"
   ]
  },
  {
   "cell_type": "code",
   "execution_count": 20,
   "metadata": {},
   "outputs": [],
   "source": [
    "seq_macros = {4: [\"abd\"],\n",
    "              5: [\"bafbcd\", \"baf\", \"ec\", \"bc\"],\n",
    "              6: [\"abdaef\", \"abdced\", \"abdaef\", \"aedce\",\n",
    "                  \"abdce\", \"abd\", \"ae\", \"ce\"], \n",
    "              7: [\"bafbcdbafecfbafbcdbcfecd\", \"bafbcdbafecf\",\n",
    "                  \"bafecdbcfecbafbcdbcfec\", \"bafbcdbafec\",\n",
    "                  \"bcfecbafbcec\"]}\n",
    "\n",
    "Q = QTable(env.get_movability_map())"
   ]
  },
  {
   "cell_type": "code",
   "execution_count": 24,
   "metadata": {},
   "outputs": [],
   "source": [
    "macro_temp = Macro(env, seq_macros[4][0])"
   ]
  },
  {
   "cell_type": "code",
   "execution_count": null,
   "metadata": {},
   "outputs": [],
   "source": [
    "agent = SMDP_Agent_Q(env, Q, macros)"
   ]
  },
  {
   "cell_type": "code",
   "execution_count": null,
   "metadata": {},
   "outputs": [],
   "source": [
    "len(seq_macros[4][0])"
   ]
  },
  {
   "cell_type": "code",
   "execution_count": 25,
   "metadata": {},
   "outputs": [
    {
     "data": {
      "text/plain": [
       "[0, 1, 3]"
      ]
     },
     "execution_count": 25,
     "metadata": {},
     "output_type": "execute_result"
    }
   ],
   "source": [
    "macro_temp.action_seq"
   ]
  },
  {
   "cell_type": "code",
   "execution_count": null,
   "metadata": {},
   "outputs": [],
   "source": []
  },
  {
   "cell_type": "code",
   "execution_count": null,
   "metadata": {},
   "outputs": [],
   "source": []
  }
 ],
 "metadata": {
  "kernelspec": {
   "display_name": "Python3 (AG)",
   "language": "python",
   "name": "ag"
  },
  "language_info": {
   "codemirror_mode": {
    "name": "ipython",
    "version": 3
   },
   "file_extension": ".py",
   "mimetype": "text/x-python",
   "name": "python",
   "nbconvert_exporter": "python",
   "pygments_lexer": "ipython3",
   "version": "3.6.8"
  }
 },
 "nbformat": 4,
 "nbformat_minor": 2
}
