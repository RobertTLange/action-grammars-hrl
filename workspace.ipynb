{
 "cells": [
  {
   "cell_type": "markdown",
   "metadata": {},
   "source": [
    "# Action Grammars: A Grammar-Induction Based Method for Learning Temporally-Extended Actions\n",
    "## Authors: Robert Lange and Aldo Faisal | January 2019"
   ]
  },
  {
   "cell_type": "code",
   "execution_count": null,
   "metadata": {},
   "outputs": [],
   "source": [
    "!pip install -r requirements.txt --quiet"
   ]
  },
  {
   "cell_type": "code",
   "execution_count": 1,
   "metadata": {},
   "outputs": [
    {
     "data": {
      "text/html": [
       "<style>.container { width:100% !important; }</style>"
      ],
      "text/plain": [
       "<IPython.core.display.HTML object>"
      ]
     },
     "metadata": {},
     "output_type": "display_data"
    }
   ],
   "source": [
    "%matplotlib inline\n",
    "%load_ext autoreload\n",
    "%autoreload 2\n",
    "\n",
    "from IPython.core.display import display, HTML\n",
    "display(HTML(\"<style>.container { width:100% !important; }</style>\"))"
   ]
  },
  {
   "cell_type": "code",
   "execution_count": 2,
   "metadata": {},
   "outputs": [],
   "source": [
    "import os\n",
    "import time\n",
    "import numpy as np\n",
    "\n",
    "import gym\n",
    "import gym_hanoi"
   ]
  },
  {
   "cell_type": "code",
   "execution_count": 32,
   "metadata": {},
   "outputs": [],
   "source": [
    "from agents import Agent_Q, SMDP_Agent_Q, Macro, SMDPQTable\n",
    "from utils.q_learning import  q_learning\n",
    "from utils.learning_params import *\n",
    "from utils.general import *\n",
    "from utils.plotting import *"
   ]
  },
  {
   "cell_type": "code",
   "execution_count": 7,
   "metadata": {},
   "outputs": [],
   "source": [
    "# Create directory - Learning performance\n",
    "results_dir = os.getcwd() + \"/results/\"\n",
    "if not os.path.exists(results_dir):\n",
    "    os.makedirs(results_dir)\n",
    "    print(\"Created New Results Directory\")\n",
    "\n",
    "# Create directory - Log directory\n",
    "log_dir = os.getcwd() + \"/logs/\"\n",
    "if not os.path.exists(log_dir):\n",
    "    os.makedirs(log_dir)\n",
    "    print(\"Created New Log Directory\")\n",
    "    \n",
    "# Create directory - Figure directory\n",
    "fig_dir = os.getcwd() + \"/figures/\"\n",
    "if not os.path.exists(fig_dir):\n",
    "    os.makedirs(fig_dir)\n",
    "    print(\"Created New Fig Directory\")"
   ]
  },
  {
   "cell_type": "markdown",
   "metadata": {},
   "source": [
    "# Towers of Hanoi - Setup"
   ]
  },
  {
   "cell_type": "code",
   "execution_count": 8,
   "metadata": {},
   "outputs": [],
   "source": [
    "num_episodes = 500\n",
    "max_steps = 500\n",
    "\n",
    "log_freq = 10  # greedily evaluate policy after amount of episodes\n",
    "log_episodes = 100\n",
    "learning_times = 5\n",
    "\n",
    "verbose = True\n",
    "\n",
    "N = 4\n",
    "\n",
    "alpha, gamma, lambd, epsilon = learning_parameters(l_type=\"Q-Learning\")"
   ]
  },
  {
   "cell_type": "markdown",
   "metadata": {},
   "source": [
    "### Simple TD($\\lambda$) Learning"
   ]
  },
  {
   "cell_type": "code",
   "execution_count": 9,
   "metadata": {},
   "outputs": [
    {
     "name": "stderr",
     "output_type": "stream",
     "text": [
      "/Users/rtl/anaconda2/envs/AG/lib/python3.6/site-packages/gym-0.10.9-py3.6.egg/gym/envs/registration.py:14: PkgResourcesDeprecationWarning: Parameters to load are deprecated.  Call .resolve and .require separately.\n",
      "  result = entry_point.load(False)\n"
     ]
    },
    {
     "name": "stdout",
     "output_type": "stream",
     "text": [
      "Hanoi Environment Parameters have been set to:\n",
      "\t Number of Disks: 4\n",
      "\t Transition Failure Probability: 0\n"
     ]
    }
   ],
   "source": [
    "env = gym.make(\"Hanoi-v0\")\n",
    "env.set_env_parameters(num_disks=N, env_noise=0)\n",
    "\n",
    "agent = Agent_Q(env)"
   ]
  },
  {
   "cell_type": "code",
   "execution_count": 11,
   "metadata": {},
   "outputs": [
    {
     "name": "stdout",
     "output_type": "stream",
     "text": [
      "Ep:  1 | Avg/Std Steps: 500.00/0.00 | Avg/Std Ret: 0.00/0.00 | Success R: 0.00\n",
      "Ep: 11 | Avg/Std Steps: 500.00/0.00 | Avg/Std Ret: 0.00/0.00 | Success R: 0.00\n",
      "Ep: 21 | Avg/Std Steps: 500.00/0.00 | Avg/Std Ret: 0.00/0.00 | Success R: 0.00\n",
      "Ep: 31 | Avg/Std Steps: 19.00/0.00 | Avg/Std Ret: 39.72/0.00 | Success R: 1.00\n",
      "Ep: 41 | Avg/Std Steps: 21.00/0.00 | Avg/Std Ret: 35.85/0.00 | Success R: 1.00\n",
      "Ep: 51 | Avg/Std Steps: 17.00/0.00 | Avg/Std Ret: 44.01/0.00 | Success R: 1.00\n",
      "Ep: 61 | Avg/Std Steps: 500.00/0.00 | Avg/Std Ret: 0.00/0.00 | Success R: 0.00\n",
      "Ep: 71 | Avg/Std Steps: 16.00/0.00 | Avg/Std Ret: 46.33/0.00 | Success R: 1.00\n",
      "Ep: 81 | Avg/Std Steps: 15.00/0.00 | Avg/Std Ret: 48.77/0.00 | Success R: 1.00\n",
      "Ep: 91 | Avg/Std Steps: 500.00/0.00 | Avg/Std Ret: 0.00/0.00 | Success R: 0.00\n",
      "Ep: 101 | Avg/Std Steps: 15.00/0.00 | Avg/Std Ret: 48.77/0.00 | Success R: 1.00\n",
      "Ep: 111 | Avg/Std Steps: 16.00/0.00 | Avg/Std Ret: 46.33/0.00 | Success R: 1.00\n",
      "Ep: 121 | Avg/Std Steps: 500.00/0.00 | Avg/Std Ret: 0.00/0.00 | Success R: 0.00\n",
      "Ep: 131 | Avg/Std Steps: 16.00/0.00 | Avg/Std Ret: 46.33/0.00 | Success R: 1.00\n",
      "Ep: 141 | Avg/Std Steps: 15.00/0.00 | Avg/Std Ret: 48.77/0.00 | Success R: 1.00\n",
      "Ep: 151 | Avg/Std Steps: 16.00/0.00 | Avg/Std Ret: 46.33/0.00 | Success R: 1.00\n",
      "Ep: 161 | Avg/Std Steps: 15.00/0.00 | Avg/Std Ret: 48.77/0.00 | Success R: 1.00\n",
      "Ep: 171 | Avg/Std Steps: 15.00/0.00 | Avg/Std Ret: 48.77/0.00 | Success R: 1.00\n",
      "Ep: 181 | Avg/Std Steps: 16.00/0.00 | Avg/Std Ret: 46.33/0.00 | Success R: 1.00\n",
      "Ep: 191 | Avg/Std Steps: 16.00/0.00 | Avg/Std Ret: 46.33/0.00 | Success R: 1.00\n",
      "Ep: 201 | Avg/Std Steps: 15.00/0.00 | Avg/Std Ret: 48.77/0.00 | Success R: 1.00\n",
      "Ep: 211 | Avg/Std Steps: 15.00/0.00 | Avg/Std Ret: 48.77/0.00 | Success R: 1.00\n",
      "Ep: 221 | Avg/Std Steps: 15.00/0.00 | Avg/Std Ret: 48.77/0.00 | Success R: 1.00\n",
      "Ep: 231 | Avg/Std Steps: 15.00/0.00 | Avg/Std Ret: 48.77/0.00 | Success R: 1.00\n",
      "Ep: 241 | Avg/Std Steps: 16.00/0.00 | Avg/Std Ret: 46.33/0.00 | Success R: 1.00\n",
      "Ep: 251 | Avg/Std Steps: 16.00/0.00 | Avg/Std Ret: 46.33/0.00 | Success R: 1.00\n",
      "Ep: 261 | Avg/Std Steps: 16.00/0.00 | Avg/Std Ret: 46.33/0.00 | Success R: 1.00\n",
      "Ep: 271 | Avg/Std Steps: 16.00/0.00 | Avg/Std Ret: 46.33/0.00 | Success R: 1.00\n",
      "Ep: 281 | Avg/Std Steps: 15.00/0.00 | Avg/Std Ret: 48.77/0.00 | Success R: 1.00\n",
      "Ep: 291 | Avg/Std Steps: 18.00/0.00 | Avg/Std Ret: 41.81/0.00 | Success R: 1.00\n",
      "Ep: 301 | Avg/Std Steps: 18.00/0.00 | Avg/Std Ret: 41.81/0.00 | Success R: 1.00\n",
      "Ep: 311 | Avg/Std Steps: 15.00/0.00 | Avg/Std Ret: 48.77/0.00 | Success R: 1.00\n",
      "Ep: 321 | Avg/Std Steps: 15.00/0.00 | Avg/Std Ret: 48.77/0.00 | Success R: 1.00\n",
      "Ep: 331 | Avg/Std Steps: 15.00/0.00 | Avg/Std Ret: 48.77/0.00 | Success R: 1.00\n",
      "Ep: 341 | Avg/Std Steps: 15.00/0.00 | Avg/Std Ret: 48.77/0.00 | Success R: 1.00\n",
      "Ep: 351 | Avg/Std Steps: 15.00/0.00 | Avg/Std Ret: 48.77/0.00 | Success R: 1.00\n",
      "Ep: 361 | Avg/Std Steps: 15.00/0.00 | Avg/Std Ret: 48.77/0.00 | Success R: 1.00\n",
      "Ep: 371 | Avg/Std Steps: 15.00/0.00 | Avg/Std Ret: 48.77/0.00 | Success R: 1.00\n",
      "Ep: 381 | Avg/Std Steps: 15.00/0.00 | Avg/Std Ret: 48.77/0.00 | Success R: 1.00\n",
      "Ep: 391 | Avg/Std Steps: 16.00/0.00 | Avg/Std Ret: 46.33/0.00 | Success R: 1.00\n",
      "Ep: 401 | Avg/Std Steps: 500.00/0.00 | Avg/Std Ret: 0.00/0.00 | Success R: 0.00\n",
      "Ep: 411 | Avg/Std Steps: 17.00/0.00 | Avg/Std Ret: 44.01/0.00 | Success R: 1.00\n",
      "Ep: 421 | Avg/Std Steps: 17.00/0.00 | Avg/Std Ret: 44.01/0.00 | Success R: 1.00\n",
      "Ep: 431 | Avg/Std Steps: 15.00/0.00 | Avg/Std Ret: 48.77/0.00 | Success R: 1.00\n",
      "Ep: 441 | Avg/Std Steps: 15.00/0.00 | Avg/Std Ret: 48.77/0.00 | Success R: 1.00\n",
      "Ep: 451 | Avg/Std Steps: 15.00/0.00 | Avg/Std Ret: 48.77/0.00 | Success R: 1.00\n",
      "Ep: 461 | Avg/Std Steps: 15.00/0.00 | Avg/Std Ret: 48.77/0.00 | Success R: 1.00\n",
      "Ep: 471 | Avg/Std Steps: 15.00/0.00 | Avg/Std Ret: 48.77/0.00 | Success R: 1.00\n",
      "Ep: 481 | Avg/Std Steps: 15.00/0.00 | Avg/Std Ret: 48.77/0.00 | Success R: 1.00\n",
      "Ep: 491 | Avg/Std Steps: 15.00/0.00 | Avg/Std Ret: 48.77/0.00 | Success R: 1.00\n"
     ]
    }
   ],
   "source": [
    "hist, er_buffer = q_learning(env, agent, num_episodes, max_steps,\n",
    "                             gamma, alpha, lambd, log_freq, log_episodes, verbose)"
   ]
  },
  {
   "cell_type": "code",
   "execution_count": 12,
   "metadata": {},
   "outputs": [
    {
     "data": {
      "image/png": "[encoded data removed]",
      "text/plain": [
       "<Figure size 432x288 with 1 Axes>"
      ]
     },
     "metadata": {
      "needs_background": "light"
     },
     "output_type": "display_data"
    }
   ],
   "source": [
    "plot_learning(hist[:, 0], hist[:, 1], hist[:,2], title=r\"Steps - Base TD($\\lambda$) Learner\")"
   ]
  },
  {
   "cell_type": "code",
   "execution_count": 13,
   "metadata": {},
   "outputs": [
    {
     "data": {
      "image/png": "[encoded data removed]",
      "text/plain": [
       "<Figure size 432x288 with 1 Axes>"
      ]
     },
     "metadata": {
      "needs_background": "light"
     },
     "output_type": "display_data"
    }
   ],
   "source": [
    "plot_learning(hist[:, 0], hist[:, 3], hist[:, 4], title=r\"Reward - Base TD($\\lambda$) Learner\")"
   ]
  },
  {
   "cell_type": "markdown",
   "metadata": {},
   "source": [
    "### SMDP-Q-Learning"
   ]
  },
  {
   "cell_type": "code",
   "execution_count": 14,
   "metadata": {},
   "outputs": [],
   "source": [
    "seq_macros = {4: [\"abd\"],\n",
    "              5: [\"bafbcd\", \"baf\", \"ec\", \"bc\"],\n",
    "              6: [\"abdaef\", \"abdced\", \"abdaef\", \"aedce\",\n",
    "                  \"abdce\", \"abd\", \"ae\", \"ce\"], \n",
    "              7: [\"bafbcdbafecfbafbcdbcfecd\", \"bafbcdbafecf\",\n",
    "                  \"bafecdbcfecbafbcdbcfec\", \"bafbcdbafec\",\n",
    "                  \"bcfecbafbcec\"]}"
   ]
  },
  {
   "cell_type": "code",
   "execution_count": 15,
   "metadata": {},
   "outputs": [
    {
     "name": "stdout",
     "output_type": "stream",
     "text": [
      "Hanoi Environment Parameters have been set to:\n",
      "\t Number of Disks: 5\n",
      "\t Transition Failure Probability: 0\n"
     ]
    }
   ],
   "source": [
    "N = 5\n",
    "env = gym.make(\"Hanoi-v0\")\n",
    "env.set_env_parameters(num_disks=N, env_noise=0)\n",
    "\n",
    "macros = []\n",
    "for i in range(len(seq_macros[N])):\n",
    "    macros.append(Macro(env, seq_macros[N][i]))"
   ]
  },
  {
   "cell_type": "code",
   "execution_count": 33,
   "metadata": {},
   "outputs": [],
   "source": [
    "Q = SMDPQTable(env.get_movability_map(), macros)"
   ]
  },
  {
   "cell_type": "code",
   "execution_count": 32,
   "metadata": {},
   "outputs": [
    {
     "data": {
      "text/plain": [
       "[<agents.Macro at 0x10ea881d0>,\n",
       " <agents.Macro at 0x1112fd3c8>,\n",
       " <agents.Macro at 0x1112fde10>,\n",
       " <agents.Macro at 0x1112fdcc0>]"
      ]
     },
     "execution_count": 32,
     "metadata": {},
     "output_type": "execute_result"
    }
   ],
   "source": [
    "agent = SMDP_Agent_Q(env, Q, macros)"
   ]
  },
  {
   "cell_type": "code",
   "execution_count": null,
   "metadata": {},
   "outputs": [],
   "source": [
    "log_template = \"Ep: {:>2} | Avg/Std Steps: {:.2f}/{:.2f} | Avg/Std Ret: {:.2f}/{:.2f} | Success R: {:.2f}\"\n",
    "log_counter = 0\n",
    "hist = np.zeros((int(num_episodes/log_freq), 6))\n",
    "\n",
    "# Init Replay Buffer\n",
    "er_buffer = ReplayBuffer(num_episodes*max_steps)\n",
    "\n",
    "for ep_id in range(num_episodes):\n",
    "\n",
    "    cur_state = env.reset()\n",
    "\n",
    "    stp = 0\n",
    "    tot_td = 0\n",
    "    rewards = []\n",
    "\n",
    "    eligibility = np.zeros(agent.q_func.table.shape)\n",
    "\n",
    "    old_greedy_choice = None\n",
    "    old_action = None\n",
    "    old_state = None\n",
    "\n",
    "    for i in range(max_steps):\n",
    "        action = agent.epsilon_greedy_action(cur_state)\n",
    "        next_state, reward, done, _ = env.step(action)\n",
    "        greedy_choice = agent.greedy_action(next_state)\n",
    "\n",
    "        # Update value function\n",
    "        eligibility, tde = q_learning_update(gamma, alpha, lambd, agent.q_func,\n",
    "                                             eligibility, cur_state, action,\n",
    "                                             next_state, reward, done, stp,\n",
    "                                             old_greedy_choice, old_action, old_state)\n",
    "\n",
    "        # Extend replay buffer\n",
    "        er_buffer.push(ep_id, old_state, action, reward, next_state, done)\n",
    "\n",
    "        # Update variables\n",
    "        old_state = cur_state\n",
    "        old_action = action\n",
    "        old_greedy_choice = greedy_choice\n",
    "        cur_state = next_state\n",
    "\n",
    "        # Update counters\n",
    "        stp += 1\n",
    "        tot_td += tde\n",
    "        rewards.append(reward)\n",
    "\n",
    "        # Go to next episode if successfully ended\n",
    "        if done:\n",
    "            break\n",
    "\n",
    "    if ep_id % log_freq == 0:\n",
    "        avg_steps, sd_steps, avg_ret, sd_ret, success_rate = greedy_eval(env, agent, gamma,\n",
    "                                                                         max_steps, log_episodes)\n",
    "        hist[log_counter,:] = np.array([ep_id, avg_steps, sd_steps,\n",
    "                                        avg_ret, sd_ret, success_rate])\n",
    "        log_counter += 1\n",
    "\n",
    "        if verbose:\n",
    "            print(log_template.format(ep_id + 1, avg_steps, sd_steps,\n",
    "                                      avg_ret, sd_steps, success_rate))"
   ]
  }
 ],
 "metadata": {
  "kernelspec": {
   "display_name": "Python3 (AG)",
   "language": "python",
   "name": "ag"
  },
  "language_info": {
   "codemirror_mode": {
    "name": "ipython",
    "version": 3
   },
   "file_extension": ".py",
   "mimetype": "text/x-python",
   "name": "python",
   "nbconvert_exporter": "python",
   "pygments_lexer": "ipython3",
   "version": "3.6.8"
  }
 },
 "nbformat": 4,
 "nbformat_minor": 2
}
