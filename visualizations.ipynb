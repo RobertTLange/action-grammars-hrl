{
 "cells": [
  {
   "cell_type": "code",
   "execution_count": null,
   "metadata": {},
   "outputs": [],
   "source": []
  },
  {
   "cell_type": "code",
   "execution_count": null,
   "metadata": {},
   "outputs": [],
   "source": []
  },
  {
   "cell_type": "code",
   "execution_count": null,
   "metadata": {},
   "outputs": [],
   "source": []
  },
  {
   "cell_type": "code",
   "execution_count": null,
   "metadata": {},
   "outputs": [],
   "source": [
    "steps_5 = [steps_5_q, steps_5_smdp_imi]\n",
    "sd_steps_5 = [sd_steps_5_q, sd_steps_5_smdp_imi]\n",
    "\n",
    "plot_learning(its_5, steps_5, sd_steps_5, 1, \"5 Disks ToH - Expert Grammar Imitation Learning\",\n",
    "              label_temp=[r\"Base TD($\\lambda$)\", \"Expert Grammar\"],\n",
    "              save_fname=\"figures/5_disks_expert_grammar.png\")"
   ]
  },
  {
   "cell_type": "code",
   "execution_count": null,
   "metadata": {},
   "outputs": [],
   "source": [
    "its_all = [its_4, its_5, its_6]\n",
    "steps_all = [[steps_4_q, steps_4_smdp_imi],\n",
    "             [steps_5_q, steps_5_smdp_imi],\n",
    "             [steps_6_q, steps_6_smdp_imi]]\n",
    "sd_steps_all = [[sd_steps_4_q, sd_steps_4_smdp_imi],\n",
    "                [sd_steps_5_q, sd_steps_5_smdp_imi],\n",
    "                [sd_steps_6_q, sd_steps_6_smdp_imi]]\n",
    "rew_all = [[rew_4_q, rew_4_smdp_imi],\n",
    "           [rew_5_q, rew_5_smdp_imi],\n",
    "           [rew_6_q, rew_6_smdp_imi]]\n",
    "sd_rew_all = [[sd_rew_4_q, sd_rew_4_smdp_imi],\n",
    "              [sd_rew_5_q, sd_rew_5_smdp_imi],\n",
    "              [sd_rew_6_q, sd_rew_6_smdp_imi]]\n",
    "\n",
    "plot_all_learning(its_all, steps_all, sd_steps_all,\n",
    "                  rew_all, sd_rew_all, smooth_degree=5,\n",
    "                  labels=[r\"Base TD($\\lambda$)\", \"SMDP Imitation\"])"
   ]
  }
 ],
 "metadata": {
  "kernelspec": {
   "display_name": "Python3 (AG)",
   "language": "python",
   "name": "ag"
  },
  "language_info": {
   "codemirror_mode": {
    "name": "ipython",
    "version": 3
   },
   "file_extension": ".py",
   "mimetype": "text/x-python",
   "name": "python",
   "nbconvert_exporter": "python",
   "pygments_lexer": "ipython3",
   "version": "3.6.8"
  }
 },
 "nbformat": 4,
 "nbformat_minor": 2
}
